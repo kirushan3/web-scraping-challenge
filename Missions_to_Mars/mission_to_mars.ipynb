{
 "cells": [
  {
   "cell_type": "code",
   "execution_count": 1,
   "metadata": {},
   "outputs": [],
   "source": [
    "from splinter import Browser\n",
    "from bs4 import BeautifulSoup as bs\n",
    "import pandas as pd\n",
    "import requests\n",
    "from pprint import pprint"
   ]
  },
  {
   "cell_type": "code",
   "execution_count": 2,
   "metadata": {},
   "outputs": [],
   "source": [
    "executable_path = {'executable_path': '/usr/local/bin/chromedriver'}\n"
   ]
  },
  {
   "cell_type": "code",
   "execution_count": 3,
   "metadata": {},
   "outputs": [],
   "source": [
    "browser = Browser('chrome', **executable_path, headless=False)"
   ]
  },
  {
   "cell_type": "code",
   "execution_count": 4,
   "metadata": {},
   "outputs": [
    {
     "data": {
      "text/plain": [
       "<div class=\"content_title\"><a href=\"/news/8735/celebrate-mars-reconnaissance-orbiters-views-from-above/\" target=\"_self\">Celebrate Mars Reconnaissance Orbiter's Views From Above</a></div>"
      ]
     },
     "execution_count": 4,
     "metadata": {},
     "output_type": "execute_result"
    }
   ],
   "source": [
    "url = 'https://mars.nasa.gov/news/?page=0&per_page=40&order=publish_date+desc%2Ccreated_at+desc&search=&category=19%2C165%2C184%2C204&blank_scope=Latest'\n",
    "browser.visit(url)\n",
    "\n",
    "#delay for the url\n",
    "browser.is_element_present_by_css(\"ul.item_list li.slide\", wait_time = 1)\n",
    "# set up parser\n",
    "html = browser.html\n",
    "news_soup = bs(html, 'html.parser')\n",
    "#finding the elements\n",
    "side_elem = news_soup.select_one('ul.item_list li.slide')\n",
    "side_elem.find(\"div\", class_='content_title')\n"
   ]
  },
  {
   "cell_type": "code",
   "execution_count": 5,
   "metadata": {},
   "outputs": [
    {
     "data": {
      "text/plain": [
       "\"Celebrate Mars Reconnaissance Orbiter's Views From Above\""
      ]
     },
     "execution_count": 5,
     "metadata": {},
     "output_type": "execute_result"
    }
   ],
   "source": [
    "#finding the title\n",
    "news_title = side_elem.find(\"div\", class_='content_title').get_text()\n",
    "news_title"
   ]
  },
  {
   "cell_type": "code",
   "execution_count": 6,
   "metadata": {},
   "outputs": [
    {
     "data": {
      "text/plain": [
       "'Marking its 15th anniversary since launch, one of the oldest spacecraft at the Red Planet has provided glimpses of dust devils, avalanches, and more.'"
      ]
     },
     "execution_count": 6,
     "metadata": {},
     "output_type": "execute_result"
    }
   ],
   "source": [
    "#finding the paragraph\n",
    "news_p= side_elem.find('div', class_=\"article_teaser_body\").get_text()\n",
    "news_p"
   ]
  },
  {
   "cell_type": "code",
   "execution_count": 7,
   "metadata": {},
   "outputs": [],
   "source": [
    "#finding mars image\n",
    "#url retrieval\n",
    "featured_image_url = \"https://www.jpl.nasa.gov/spaceimages/?search=&category=Mars\"\n",
    "browser.visit(featured_image_url)\n",
    "    "
   ]
  },
  {
   "cell_type": "code",
   "execution_count": 8,
   "metadata": {},
   "outputs": [],
   "source": [
    "#parsering featured image url\n",
    "#url parsel\n",
    "main_image_html = browser.html\n",
    "main_image_soup = bs(main_image_html, 'html.parser')"
   ]
  },
  {
   "cell_type": "code",
   "execution_count": 9,
   "metadata": {},
   "outputs": [
    {
     "data": {
      "text/plain": [
       "'https://www.jpl.nasa.gov/spaceimages/images/wallpaper/PIA19334-1920x1200.jpg'"
      ]
     },
     "execution_count": 9,
     "metadata": {},
     "output_type": "execute_result"
    }
   ],
   "source": [
    "#retrieve image\n",
    "#https://stackoverflow.com/questions/24981963/extracting-url-from-style-background-url-with-beautifulsoup-and-without-regex\n",
    "\n",
    "get_main_image = main_image_soup.find('article')['style'].replace('background-image: url(','').replace(');', '')[1:-1]\n",
    "\n",
    "core_url = 'https://www.jpl.nasa.gov'\n",
    "\n",
    "#Concatenate featured image url\n",
    "featured_image_url = core_url + get_main_image\n",
    "featured_image_url"
   ]
  },
  {
   "cell_type": "code",
   "execution_count": 73,
   "metadata": {},
   "outputs": [],
   "source": [
    "#mars weather\n",
    "browser = Browser('chrome', **executable_path, headless=False)\n",
    "mars_twitter_url = \"https://twitter.com/marswxreport?lang=en\"\n",
    "browser.visit(mars_twitter_url)"
   ]
  },
  {
   "cell_type": "code",
   "execution_count": 74,
   "metadata": {},
   "outputs": [],
   "source": [
    "# set up parser\n",
    "html = browser.html\n",
    "soup = bs(html, 'lxml')"
   ]
  },
  {
   "cell_type": "code",
   "execution_count": 75,
   "metadata": {},
   "outputs": [
    {
     "name": "stdout",
     "output_type": "stream",
     "text": [
      "<!DOCTYPE html>\n",
      "<html dir=\"ltr\" lang=\"en\">\n",
      " <meta charset=\"utf-8\"/>\n",
      " <meta content=\"width=device-width,initial-scale=1,maximum-scale=1,user-scalable=0,viewport-fit=cover\" name=\"viewport\"/>\n",
      " <link href=\"//abs.twimg.com\" rel=\"preconnect\"/>\n",
      " <link href=\"//api.twitter.com\" rel=\"preconnect\"/>\n",
      " <link href=\"//pbs.twimg.com\" rel=\"preconnect\"/>\n",
      " <link href=\"//t.co\" rel=\"preconnect\"/>\n",
      " <link href=\"//video.twimg.com\" rel=\"preconnect\"/>\n",
      " <link href=\"//abs.twimg.com\" rel=\"dns-prefetch\"/>\n",
      " <link href=\"//api.twitter.com\" rel=\"dns-prefetch\"/>\n",
      " <link href=\"//pbs.twimg.com\" rel=\"dns-prefetch\"/>\n",
      " <link href=\"//t.co\" rel=\"dns-prefetch\"/>\n",
      " <link href=\"//video.twimg.com\" rel=\"dns-prefetch\"/>\n",
      " <link as=\"script\" crossorigin=\"anonymous\" href=\"https://abs.twimg.com/responsive-web/client-web-legacy/polyfills.b0114665.js\" nonce=\"YjJhYTVjNTAtNDkyYi00YTY5LTkxNTEtOTk2ODg0NmNkYmQx\" rel=\"preload\"/>\n",
      " <link as=\"script\" crossorigin=\"anonymous\" href=\"https://abs.twimg.com/responsive-web/client-web-legacy/vendors~main.5f094565.js\" nonce=\"YjJhYTVjNTAtNDkyYi00YTY5LTkxNTEtOTk2ODg0NmNkYmQx\" rel=\"preload\"/>\n",
      " <link as=\"script\" crossorigin=\"anonymous\" href=\"https://abs.twimg.com/responsive-web/client-web-legacy/i18n/en.8e45dc55.js\" nonce=\"YjJhYTVjNTAtNDkyYi00YTY5LTkxNTEtOTk2ODg0NmNkYmQx\" rel=\"preload\"/>\n",
      " <link as=\"script\" crossorigin=\"anonymous\" href=\"https://abs.twimg.com/responsive-web/client-web-legacy/main.af0ab7c5.js\" nonce=\"YjJhYTVjNTAtNDkyYi00YTY5LTkxNTEtOTk2ODg0NmNkYmQx\" rel=\"preload\"/>\n",
      " <meta content=\"2231777543\" property=\"fb:app_id\"/>\n",
      " <meta content=\"Twitter\" property=\"og:site_name\"/>\n",
      " <meta content=\"V0yIS0Ec_o3Ii9KThrCoMCkwTYMMJ_JYx_RSaGhFYvw\" name=\"google-site-verification\"/>\n",
      " <link crossorigin=\"use-credentials\" href=\"/manifest.json\" rel=\"manifest\"/>\n",
      " <link href=\"https://twitter.com/marswxreport?lang=en\" hreflang=\"x-default\" rel=\"alternate\"/>\n",
      " <link href=\"https://twitter.com/marswxreport?lang=ar\" hreflang=\"ar\" rel=\"alternate\"/>\n",
      " <link href=\"https://twitter.com/marswxreport?lang=bg\" hreflang=\"bg\" rel=\"alternate\"/>\n",
      " <link href=\"https://twitter.com/marswxreport?lang=bn\" hreflang=\"bn\" rel=\"alternate\"/>\n",
      " <link href=\"https://twitter.com/marswxreport?lang=ca\" hreflang=\"ca\" rel=\"alternate\"/>\n",
      " <link href=\"https://twitter.com/marswxreport?lang=cs\" hreflang=\"cs\" rel=\"alternate\"/>\n",
      " <link href=\"https://twitter.com/marswxreport?lang=da\" hreflang=\"da\" rel=\"alternate\"/>\n",
      " <link href=\"https://twitter.com/marswxreport?lang=de\" hreflang=\"de\" rel=\"alternate\"/>\n",
      " <link href=\"https://twitter.com/marswxreport?lang=el\" hreflang=\"el\" rel=\"alternate\"/>\n",
      " <link href=\"https://twitter.com/marswxreport?lang=en\" hreflang=\"en\" rel=\"alternate\"/>\n",
      " <link href=\"https://twitter.com/marswxreport?lang=en-GB\" hreflang=\"en-GB\" rel=\"alternate\"/>\n",
      " <link href=\"https://twitter.com/marswxreport?lang=es\" hreflang=\"es\" rel=\"alternate\"/>\n",
      " <link href=\"https://twitter.com/marswxreport?lang=eu\" hreflang=\"eu\" rel=\"alternate\"/>\n",
      " <link href=\"https://twitter.com/marswxreport?lang=fa\" hreflang=\"fa\" rel=\"alternate\"/>\n",
      " <link href=\"https://twitter.com/marswxreport?lang=fi\" hreflang=\"fi\" rel=\"alternate\"/>\n",
      " <link href=\"https://twitter.com/marswxreport?lang=tl\" hreflang=\"tl\" rel=\"alternate\"/>\n",
      " <link href=\"https://twitter.com/marswxreport?lang=fr\" hreflang=\"fr\" rel=\"alternate\"/>\n",
      " <link href=\"https://twitter.com/marswxreport?lang=ga\" hreflang=\"ga\" rel=\"alternate\"/>\n",
      " <link href=\"https://twitter.com/marswxreport?lang=gl\" hreflang=\"gl\" rel=\"alternate\"/>\n",
      " <link href=\"https://twitter.com/marswxreport?lang=gu\" hreflang=\"gu\" rel=\"alternate\"/>\n",
      " <link href=\"https://twitter.com/marswxreport?lang=he\" hreflang=\"he\" rel=\"alternate\"/>\n",
      " <link href=\"https://twitter.com/marswxreport?lang=hi\" hreflang=\"hi\" rel=\"alternate\"/>\n",
      " <link href=\"https://twitter.com/marswxreport?lang=hr\" hreflang=\"hr\" rel=\"alternate\"/>\n",
      " <link href=\"https://twitter.com/marswxreport?lang=hu\" hreflang=\"hu\" rel=\"alternate\"/>\n",
      " <link href=\"https://twitter.com/marswxreport?lang=id\" hreflang=\"id\" rel=\"alternate\"/>\n",
      " <link href=\"https://twitter.com/marswxreport?lang=it\" hreflang=\"it\" rel=\"alternate\"/>\n",
      " <link href=\"https://twitter.com/marswxreport?lang=ja\" hreflang=\"ja\" rel=\"alternate\"/>\n",
      " <link href=\"https://twitter.com/marswxreport?lang=kn\" hreflang=\"kn\" rel=\"alternate\"/>\n",
      " <link href=\"https://twitter.com/marswxreport?lang=ko\" hreflang=\"ko\" rel=\"alternate\"/>\n",
      " <link href=\"https://twitter.com/marswxreport?lang=mr\" hreflang=\"mr\" rel=\"alternate\"/>\n",
      " <link href=\"https://twitter.com/marswxreport?lang=ms\" hreflang=\"ms\" rel=\"alternate\"/>\n",
      " <link href=\"https://twitter.com/marswxreport?lang=nb\" hreflang=\"nb\" rel=\"alternate\"/>\n",
      " <link href=\"https://twitter.com/marswxreport?lang=nl\" hreflang=\"nl\" rel=\"alternate\"/>\n",
      " <link href=\"https://twitter.com/marswxreport?lang=pl\" hreflang=\"pl\" rel=\"alternate\"/>\n",
      " <link href=\"https://twitter.com/marswxreport?lang=pt\" hreflang=\"pt\" rel=\"alternate\"/>\n",
      " <link href=\"https://twitter.com/marswxreport?lang=ro\" hreflang=\"ro\" rel=\"alternate\"/>\n",
      " <link href=\"https://twitter.com/marswxreport?lang=ru\" hreflang=\"ru\" rel=\"alternate\"/>\n",
      " <link href=\"https://twitter.com/marswxreport?lang=sk\" hreflang=\"sk\" rel=\"alternate\"/>\n",
      " <link href=\"https://twitter.com/marswxreport?lang=sr\" hreflang=\"sr\" rel=\"alternate\"/>\n",
      " <link href=\"https://twitter.com/marswxreport?lang=sv\" hreflang=\"sv\" rel=\"alternate\"/>\n",
      " <link href=\"https://twitter.com/marswxreport?lang=ta\" hreflang=\"ta\" rel=\"alternate\"/>\n",
      " <link href=\"https://twitter.com/marswxreport?lang=th\" hreflang=\"th\" rel=\"alternate\"/>\n",
      " <link href=\"https://twitter.com/marswxreport?lang=tr\" hreflang=\"tr\" rel=\"alternate\"/>\n",
      " <link href=\"https://twitter.com/marswxreport?lang=uk\" hreflang=\"uk\" rel=\"alternate\"/>\n",
      " <link href=\"https://twitter.com/marswxreport?lang=ur\" hreflang=\"ur\" rel=\"alternate\"/>\n",
      " <link href=\"https://twitter.com/marswxreport?lang=vi\" hreflang=\"vi\" rel=\"alternate\"/>\n",
      " <link href=\"https://twitter.com/marswxreport?lang=zh\" hreflang=\"zh\" rel=\"alternate\"/>\n",
      " <link href=\"https://twitter.com/marswxreport?lang=zh-Hant\" hreflang=\"zh-Hant\" rel=\"alternate\"/>\n",
      " <link data-rdm=\"\" href=\"https://twitter.com/marswxreport\" rel=\"canonical\"/>\n",
      " <link color=\"#1da1f2\" href=\"https://abs.twimg.com/responsive-web/client-web-legacy/icon-svg.9e211f65.svg\" rel=\"mask-icon\" sizes=\"any\"/>\n",
      " <link href=\"//abs.twimg.com/favicons/twitter.ico\" rel=\"shortcut icon\" type=\"image/x-icon\"/>\n",
      " <link href=\"https://abs.twimg.com/responsive-web/client-web-legacy/icon-ios.8ea219d5.png\" rel=\"apple-touch-icon\" sizes=\"192x192\">\n",
      "  <meta content=\"yes\" name=\"mobile-web-app-capable\"/>\n",
      "  <meta content=\"Twitter\" name=\"apple-mobile-web-app-title\"/>\n",
      "  <meta content=\"white\" name=\"apple-mobile-web-app-status-bar-style\"/>\n",
      "  <meta content=\"#ffffff\" name=\"theme-color\"/>\n",
      "  <meta content=\"Ap6SMBNB0lQoXpXl4I9vyTJqJ7Y0X9tPd6Q6rN697iHdubQQxBcWHy21N3N7uEz7Ba5UKMbN+eLvDczBSbi27AsAAABfeyJvcmlnaW4iOiJodHRwczovL3R3aXR0ZXIuY29tOjQ0MyIsImZlYXR1cmUiOiJCYWRnaW5nIiwiZXhwaXJ5IjoxNTY0NTgyNzY2LCJpc1N1YmRvbWFpbiI6dHJ1ZX0=\" http-equiv=\"origin-trial\"/>\n",
      "  <meta content=\"Apir4chqTX+4eFxKD+ErQlKRB/VtZ/dvnLfd9Y9Nenl5r1xJcf81alryTHYQiuUlz9Q49MqGXqyaiSmqWzHUqQwAAABneyJvcmlnaW4iOiJodHRwczovL3R3aXR0ZXIuY29tOjQ0MyIsImZlYXR1cmUiOiJDb250YWN0c01hbmFnZXIiLCJleHBpcnkiOjE1NzUwMzUyODMsImlzU3ViZG9tYWluIjp0cnVlfQ==\" http-equiv=\"origin-trial\"/>\n",
      "  <meta content=\"AleGS26SZL7UA8Fe1DbvXzoay74bPTvrfKKGimIu1RI8vA+RtXOSVlizUkz2zU/fQoFoOTgCiCciP6pM5teaeQgAAABjeyJvcmlnaW4iOiJodHRwczovL3R3aXR0ZXIuY29tOjQ0MyIsImZlYXR1cmUiOiJTbXNSZWNlaXZlciIsImV4cGlyeSI6MTU3OTAyMDkyMSwiaXNTdWJkb21haW4iOnRydWV9\" http-equiv=\"origin-trial\"/>\n",
      "  <style>\n",
      "   html,body{height: 100%;}body{-ms-overflow-style:scrollbar;overflow-y:scroll;overscroll-behavior-y:none;}\n",
      "  </style>\n",
      "  <style id=\"react-native-stylesheet\">\n",
      "   [stylesheet-group=\"0\"]{}\n",
      "html{-ms-text-size-adjust:100%;-webkit-text-size-adjust:100%;-webkit-tap-highlight-color:rgba(0,0,0,0);}\n",
      "body{margin:0;}\n",
      "button::-moz-focus-inner,input::-moz-focus-inner{border:0;padding:0;}\n",
      "input::-webkit-inner-spin-button,input::-webkit-outer-spin-button,input::-webkit-search-cancel-button,input::-webkit-search-decoration,input::-webkit-search-results-button,input::-webkit-search-results-decoration{display:none;}\n",
      "[stylesheet-group=\"0.1\"]{}\n",
      ":focus:not([data-focusvisible-polyfill]){outline: none;}\n",
      "[stylesheet-group=\"1\"]{}\n",
      ".css-1dbjc4n{-ms-flex-align:stretch;-ms-flex-direction:column;-ms-flex-negative:0;-ms-flex-preferred-size:auto;-webkit-align-items:stretch;-webkit-box-align:stretch;-webkit-box-direction:normal;-webkit-box-orient:vertical;-webkit-flex-basis:auto;-webkit-flex-direction:column;-webkit-flex-shrink:0;align-items:stretch;border:0 solid black;box-sizing:border-box;display:-webkit-box;display:-moz-box;display:-ms-flexbox;display:-webkit-flex;display:flex;flex-basis:auto;flex-direction:column;flex-shrink:0;margin-bottom:0px;margin-left:0px;margin-right:0px;margin-top:0px;min-height:0px;min-width:0px;padding-bottom:0px;padding-left:0px;padding-right:0px;padding-top:0px;position:relative;z-index:0;}\n",
      ".css-901oao{border:0 solid black;box-sizing:border-box;color:rgba(0,0,0,1.00);display:inline;font:14px system-ui,-apple-system,BlinkMacSystemFont,\"Segoe UI\",Roboto,Ubuntu,\"Helvetica Neue\",sans-serif;margin-bottom:0px;margin-left:0px;margin-right:0px;margin-top:0px;padding-bottom:0px;padding-left:0px;padding-right:0px;padding-top:0px;white-space:pre-wrap;word-wrap:break-word;}\n",
      ".css-16my406{color:inherit;font:inherit;white-space:inherit;}\n",
      "[stylesheet-group=\"2\"]{}\n",
      ".r-13awgt0{-ms-flex-negative:1;-ms-flex-positive:1;-ms-flex-preferred-size:0%;-webkit-box-flex:1;-webkit-flex-basis:0%;-webkit-flex-grow:1;-webkit-flex-shrink:1;flex-basis:0%;flex-grow:1;flex-shrink:1;}\n",
      ".r-4qtqp9{display:inline-block;}\n",
      ".r-ywje51{margin-bottom:auto;margin-left:auto;margin-right:auto;margin-top:auto;}\n",
      ".r-hvic4v{display:none;}\n",
      ".r-1adg3ll{display:block;}\n",
      "[stylesheet-group=\"2.2\"]{}\n",
      ".r-12vffkv>*{pointer-events:auto;}\n",
      ".r-12vffkv{pointer-events:none!important;}\n",
      ".r-14lw9ot{background-color:rgba(255,255,255,1.00);}\n",
      ".r-1p0dtai{bottom:0px;}\n",
      ".r-1d2f490{left:0px;}\n",
      ".r-1xcajam{position:fixed;}\n",
      ".r-zchlnj{right:0px;}\n",
      ".r-ipm5af{top:0px;}\n",
      ".r-yyyyoo{fill:currentcolor;}\n",
      ".r-1xvli5t{height:1.25em;}\n",
      ".r-dnmrzs{max-width:100%;}\n",
      ".r-bnwqim{position:relative;}\n",
      ".r-1plcrui{vertical-align:text-bottom;}\n",
      ".r-lrvibr{-moz-user-select:none;-ms-user-select:none;-webkit-user-select:none;user-select:none;}\n",
      ".r-13gxpu9{color:rgba(29,161,242,1.00);}\n",
      ".r-wy61xf{height:72px;}\n",
      ".r-u8s1d{position:absolute;}\n",
      ".r-1blnp2b{width:72px;}\n",
      ".r-1ykxob0{top:60%;}\n",
      ".r-1b2b6em{line-height:2em;}\n",
      ".r-q4m81j{text-align:center;}\n",
      "  </style>\n",
      "  <body>\n",
      "   <noscript>\n",
      "    <form action=\"https://mobile.twitter.com/i/nojs_router?path=%2Fmarswxreport%3Flang%3Den\" method=\"POST\" style=\"background-color: #fff; position: fixed; top: 0; left: 0; right: 0; bottom: 0; z-index: 9999;\">\n",
      "     <div style=\"font-size: 18px; font-family: Helvetica,sans-serif; line-height: 24px; margin: 10%; width: 80%;\">\n",
      "      <p>\n",
      "       We've detected that JavaScript is disabled in your browser. Would you like to proceed to legacy Twitter?\n",
      "      </p>\n",
      "      <p style=\"margin: 20px 0;\">\n",
      "       <button style=\"background-color: #1da1f2; border-radius: 100px; border: none; box-shadow: none; color: #fff; cursor: pointer; font-size: 14px; font-weight: bold; line-height: 20px; padding: 6px 16px;\" type=\"submit\">\n",
      "        Yes\n",
      "       </button>\n",
      "      </p>\n",
      "     </div>\n",
      "    </form>\n",
      "   </noscript>\n",
      "   <div id=\"react-root\" style=\"height:100%;display:flex;\">\n",
      "    <div class=\"css-1dbjc4n r-13awgt0 r-12vffkv\">\n",
      "     <div class=\"css-1dbjc4n r-13awgt0 r-12vffkv\">\n",
      "      <div aria-label=\"Loading…\" class=\"css-1dbjc4n r-14lw9ot r-1p0dtai r-1d2f490 r-1xcajam r-zchlnj r-ipm5af\">\n",
      "       <svg class=\"r-1p0dtai r-13gxpu9 r-4qtqp9 r-yyyyoo r-wy61xf r-1d2f490 r-ywje51 r-dnmrzs r-u8s1d r-zchlnj r-1plcrui r-ipm5af r-lrvibr r-1blnp2b\" viewbox=\"0 0 24 24\">\n",
      "        <g>\n",
      "         <path d=\"M23.643 4.937c-.835.37-1.732.62-2.675.733.962-.576 1.7-1.49 2.048-2.578-.9.534-1.897.922-2.958 1.13-.85-.904-2.06-1.47-3.4-1.47-2.572 0-4.658 2.086-4.658 4.66 0 .364.042.718.12 1.06-3.873-.195-7.304-2.05-9.602-4.868-.4.69-.63 1.49-.63 2.342 0 1.616.823 3.043 2.072 3.878-.764-.025-1.482-.234-2.11-.583v.06c0 2.257 1.605 4.14 3.737 4.568-.392.106-.803.162-1.227.162-.3 0-.593-.028-.877-.082.593 1.85 2.313 3.198 4.352 3.234-1.595 1.25-3.604 1.995-5.786 1.995-.376 0-.747-.022-1.112-.065 2.062 1.323 4.51 2.093 7.14 2.093 8.57 0 13.255-7.098 13.255-13.254 0-.2-.005-.402-.014-.602.91-.658 1.7-1.477 2.323-2.41z\">\n",
      "         </path>\n",
      "        </g>\n",
      "       </svg>\n",
      "      </div>\n",
      "      <div class=\"css-1dbjc4n r-hvic4v r-1d2f490 r-1xcajam r-zchlnj r-1ykxob0\" id=\"ScriptLoadFailure\">\n",
      "       <form action=\"\" method=\"GET\">\n",
      "        <div class=\"css-901oao r-1adg3ll r-1b2b6em r-q4m81j\" dir=\"auto\">\n",
      "         <span class=\"css-901oao css-16my406\" dir=\"auto\">\n",
      "          Something went wrong, but don’t fret — let’s give it another shot.\n",
      "         </span>\n",
      "         <br/>\n",
      "         <input type=\"submit\" value=\"Try again\"/>\n",
      "        </div>\n",
      "       </form>\n",
      "      </div>\n",
      "     </div>\n",
      "    </div>\n",
      "   </div>\n",
      "   <script nonce=\"YjJhYTVjNTAtNDkyYi00YTY5LTkxNTEtOTk2ODg0NmNkYmQx\">\n",
      "    window.__INITIAL_STATE__ = {\"optimist\":[],\"featureSwitch\":{\"config\":{\"2fa_multikey_management_enabled\":{\"value\":false},\"account_country_setting_countries_whitelist\":{\"value\":[\"ad\",\"ae\",\"af\",\"ag\",\"ai\",\"al\",\"am\",\"ao\",\"ar\",\"as\",\"at\",\"au\",\"aw\",\"ax\",\"az\",\"ba\",\"bb\",\"bd\",\"be\",\"bf\",\"bg\",\"bh\",\"bi\",\"bj\",\"bl\",\"bm\",\"bn\",\"bo\",\"bq\",\"br\",\"bs\",\"bt\",\"bv\",\"bw\",\"by\",\"bz\",\"ca\",\"cc\",\"cd\",\"cf\",\"cg\",\"ch\",\"ci\",\"ck\",\"cl\",\"cm\",\"co\",\"cr\",\"cu\",\"cv\",\"cw\",\"cx\",\"cy\",\"cz\",\"de\",\"dj\",\"dk\",\"dm\",\"do\",\"dz\",\"ec\",\"ee\",\"eg\",\"er\",\"es\",\"et\",\"fi\",\"fj\",\"fk\",\"fm\",\"fo\",\"fr\",\"ga\",\"gb\",\"gd\",\"ge\",\"gf\",\"gg\",\"gh\",\"gi\",\"gl\",\"gm\",\"gn\",\"gp\",\"gq\",\"gr\",\"gs\",\"gt\",\"gu\",\"gw\",\"gy\",\"hk\",\"hn\",\"hr\",\"ht\",\"hu\",\"id\",\"ie\",\"il\",\"im\",\"in\",\"io\",\"iq\",\"ir\",\"is\",\"it\",\"je\",\"jm\",\"jo\",\"jp\",\"ke\",\"kg\",\"kh\",\"ki\",\"km\",\"kn\",\"kr\",\"kw\",\"ky\",\"kz\",\"la\",\"lb\",\"lc\",\"li\",\"lk\",\"lr\",\"ls\",\"lt\",\"lu\",\"lv\",\"ly\",\"ma\",\"mc\",\"md\",\"me\",\"mf\",\"mg\",\"mh\",\"mk\",\"ml\",\"mn\",\"mo\",\"mp\",\"mq\",\"mr\",\"ms\",\"mt\",\"mu\",\"mv\",\"mw\",\"mx\",\"my\",\"mz\",\"na\",\"nc\",\"ne\",\"nf\",\"ng\",\"ni\",\"nl\",\"no\",\"np\",\"nr\",\"nu\",\"nz\",\"om\",\"pa\",\"pe\",\"pf\",\"pg\",\"ph\",\"pk\",\"pl\",\"pm\",\"pn\",\"pr\",\"ps\",\"pt\",\"pw\",\"py\",\"qa\",\"re\",\"ro\",\"rs\",\"ru\",\"rw\",\"sa\",\"sb\",\"sc\",\"se\",\"sg\",\"sh\",\"si\",\"sk\",\"sl\",\"sm\",\"sn\",\"so\",\"sr\",\"st\",\"sv\",\"sx\",\"sz\",\"tc\",\"td\",\"tf\",\"tg\",\"th\",\"tj\",\"tk\",\"tl\",\"tm\",\"tn\",\"to\",\"tr\",\"tt\",\"tv\",\"tw\",\"tz\",\"ua\",\"ug\",\"us\",\"uy\",\"uz\",\"va\",\"vc\",\"ve\",\"vi\",\"vn\",\"vu\",\"wf\",\"ws\",\"xk\",\"ye\",\"yt\",\"za\",\"zm\",\"zw\"]},\"author_moderated_replies_urt_container_enabled\":{\"value\":false},\"content_language_setting_enabled\":{\"value\":true},\"conversation_controls_highlighted_education_enabled\":{\"value\":true},\"conversation_controls_limited_replies_consumption_configuration\":{\"value\":\"no_reply\"},\"conversation_controls_limited_replies_creation_enabled\":{\"value\":true},\"dm_reactions_config_active_reactions\":{\"value\":[\"😂:funny\",\"😲:surprised\",\"😢:sad\",\"❤:like\",\"🔥:excited\",\"👍:agree\",\"👎:disagree\"]},\"dm_reactions_config_inactive_reactions\":{\"value\":[\"😠:angry\"]},\"guest_broadcasting_timeline_decorations_enabled\":{\"value\":true},\"hashflags_animation_like_button_enabled\":{\"value\":true},\"hashflags_animation_lottie_default_enabled\":{\"value\":false},\"home_timeline_latest_timeline_autoswitch_half_life_minutes\":{\"value\":43200},\"home_timeline_latest_timeline_autoswitch_threshold_multiplier\":{\"value\":2},\"home_timeline_latest_timeline_max_time_to_autoswitch_minutes\":{\"value\":5256000},\"home_timeline_latest_timeline_min_time_to_autoswitch_minutes\":{\"value\":5256000},\"home_timeline_latest_timeline_switch_enabled\":{\"value\":true},\"home_timeline_latest_timeline_threshold_to_increase_autoswitch_seconds\":{\"value\":60},\"home_timeline_spheres_copy_variant\":{\"value\":\"list_follow\"},\"home_timeline_spheres_custom_banner_image_reads_enabled\":{\"value\":true},\"home_timeline_spheres_detail_page_muting_enabled\":{\"value\":true},\"home_timeline_spheres_list_cell_thumbnail_enabled\":{\"value\":true},\"home_timeline_spheres_max_user_owned_or_subscribed_lists_count\":{\"value\":5},\"home_timeline_spheres_ranking_mode_control_enabled\":{\"value\":true},\"identity_verification_intake_enabled\":{\"value\":false},\"live_event_docking_enabled\":{\"value\":true},\"live_event_multi_video_auto_advance_dock_enabled\":{\"value\":true},\"live_event_multi_video_auto_advance_enabled\":{\"value\":true},\"live_event_multi_video_auto_advance_fullscreen_enabled\":{\"value\":false},\"live_event_multi_video_auto_advance_transition_duration_seconds\":{\"value\":5},\"live_event_multi_video_enabled\":{\"value\":true},\"live_event_timeline_default_refresh_rate_interval_seconds\":{\"value\":30},\"live_event_timeline_minimum_refresh_rate_interval_seconds\":{\"value\":10},\"live_event_timeline_server_controlled_refresh_rate_enabled\":{\"value\":true},\"live_event_vod_promoted_content_enabled\":{\"value\":true},\"livepipeline_client_enabled\":{\"value\":true},\"livepipeline_dm_features_enabled\":{\"value\":true},\"livepipeline_tweetengagement_enabled\":{\"value\":true},\"moment_annotations_enabled\":{\"value\":true},\"name_accessibility_unicode_detection_enabled\":{\"value\":false},\"navigation_stack_referrer_param_enabled\":{\"value\":true},\"network_layer_503_backoff_mode\":{\"value\":\"host\"},\"report_flow_id_enabled\":{\"value\":true},\"responsive_web_alt_svc\":{\"value\":false},\"responsive_web_alt_text_badge_enabled\":{\"value\":false},\"responsive_web_api_transition_enabled\":{\"value\":false},\"responsive_web_auto_logout_multiaccount_enabled\":{\"value\":true},\"responsive_web_auto_logout_restrictedauthtoken_enabled\":{\"value\":true},\"responsive_web_auto_logout_twid_enabled\":{\"value\":true},\"responsive_web_birdwatch_consumption_enabled\":{\"value\":false},\"responsive_web_birdwatch_contribution_enabled\":{\"value\":false},\"responsive_web_branch_cpid_enabled\":{\"value\":true},\"responsive_web_branch_sdk_enabled\":{\"value\":true},\"responsive_web_broadcast_page_card_enabled\":{\"value\":true},\"responsive_web_card_preload_mode\":{\"value\":\"prerender\"},\"responsive_web_check_browser_support_enabled\":{\"value\":true},\"responsive_web_cleanup_macaw_swift_indexed_db\":{\"value\":true},\"responsive_web_continue_as_always_enabled\":{\"value\":false},\"responsive_web_continue_as_param_enabled\":{\"value\":true},\"responsive_web_conversation_tree_enabled\":{\"value\":false},\"responsive_web_conversation_tree_toggle\":{\"value\":false},\"responsive_web_csrf_clientside_enabled\":{\"value\":true},\"responsive_web_dark_mode_scrollbars_enabled\":{\"value\":false},\"responsive_web_dcm_2_enabled\":{\"value\":true},\"responsive_web_dm_composer_media_toggle_enabled\":{\"value\":false},\"responsive_web_dm_entry_anchoring_top_anchoring_default_enabled\":{\"value\":false},\"responsive_web_dm_health_convo_block_report_button_enabled\":{\"value\":false},\"responsive_web_dm_health_convo_group_changes_enabled\":{\"value\":false},\"responsive_web_dm_health_convo_inline_profile_info_enabled\":{\"value\":false},\"responsive_web_dm_health_inbox_request_cell_social_proof_enabled\":{\"value\":false},\"responsive_web_dm_quick_access_enabled\":{\"value\":true},\"responsive_web_dm_quick_access_no_empty_drawer_enabled\":{\"value\":true},\"responsive_web_dm_quick_access_with_close_enabled\":{\"value\":false},\"responsive_web_elevated_qt_label_configuration\":{\"value\":\"\"},\"responsive_web_eu_countries\":{\"value\":[\"at\",\"be\",\"bg\",\"ch\",\"cy\",\"cz\",\"de\",\"dk\",\"ee\",\"es\",\"fi\",\"fr\",\"gb\",\"gr\",\"hr\",\"hu\",\"ie\",\"is\",\"it\",\"li\",\"lt\",\"lu\",\"lv\",\"mt\",\"nl\",\"no\",\"pl\",\"pt\",\"ro\",\"se\",\"si\",\"sk\"]},\"responsive_web_explore_as_lohp_enabled\":{\"value\":false},\"responsive_web_explore_tab_followup_enabled\":{\"value\":true},\"responsive_web_extension_compatibility_hide\":{\"value\":false},\"responsive_web_extension_compatibility_impression_guard\":{\"value\":true},\"responsive_web_extension_compatibility_override_param\":{\"value\":false},\"responsive_web_extension_compatibility_scribe\":{\"value\":true},\"responsive_web_extension_compatibility_size_threshold\":{\"value\":50},\"responsive_web_fake_root_twitter_domain_for_testing\":{\"value\":false},\"responsive_web_feature_switch_dash_enabled\":{\"value\":false},\"responsive_web_fetch_hashflags_on_boot\":{\"value\":true},\"responsive_web_framerate_tracking_home_enabled\":{\"value\":false},\"responsive_web_graphql_amr_timeline\":{\"value\":false},\"responsive_web_graphql_bookmarks\":{\"value\":false},\"responsive_web_graphql_dark_reads_probability\":{\"value\":0},\"responsive_web_graphql_list_crud\":{\"value\":true},\"responsive_web_graphql_list_management_timelines_enabled\":{\"value\":false},\"responsive_web_graphql_list_members_subscribers_enabled\":{\"value\":false},\"responsive_web_graphql_list_operations\":{\"value\":false},\"responsive_web_graphql_tweet_results\":{\"value\":false},\"responsive_web_graphql_user_everywhere\":{\"value\":true},\"responsive_web_graphql_user_results\":{\"value\":false},\"responsive_web_graphql_verify_credentials_enabled\":{\"value\":true},\"responsive_web_guest_token_reporting\":{\"value\":true},\"responsive_web_hide_media_previews_enabled\":{\"value\":false},\"responsive_web_history_tracker_enabled\":{\"value\":true},\"responsive_web_hoisting_anchor_invalidation_enabled\":{\"value\":false},\"responsive_web_home_wait_for_seenIds_enabled\":{\"value\":false},\"responsive_web_horizon_video_player_enabled\":{\"value\":true},\"responsive_web_hover_on_mousemove_enabled\":{\"value\":false},\"responsive_web_html_archive_renderer_enabled\":{\"value\":true},\"responsive_web_hw_cards_in_dms_enabled\":{\"value\":true},\"responsive_web_inline_reply_enabled\":{\"value\":false},\"responsive_web_inline_reply_with_fab_enabled\":{\"value\":false},\"responsive_web_instream_video_enabled\":{\"value\":true},\"responsive_web_instream_video_redesign_enabled\":{\"value\":false},\"responsive_web_list_hover_cards_enabled\":{\"value\":false},\"responsive_web_live_video_parity_periscope_auth_enabled\":{\"value\":false},\"responsive_web_login_input_type_email_enabled\":{\"value\":false},\"responsive_web_login_signup_sheet_app_install_cta_enabled\":{\"value\":false},\"responsive_web_media_upload_limit_2g\":{\"value\":250},\"responsive_web_media_upload_limit_3g\":{\"value\":1500},\"responsive_web_media_upload_limit_slow_2g\":{\"value\":150},\"responsive_web_media_upload_md5_hashing_enabled\":{\"value\":false},\"responsive_web_media_upload_target_jpg_pixels_per_byte\":{\"value\":6},\"responsive_web_menu_section_divider_enabled\":{\"value\":false},\"responsive_web_modern_bundle_enabled\":{\"value\":true},\"responsive_web_modern_bundle_sw_enabled\":{\"value\":true},\"responsive_web_moment_maker_annotations_enabled\":{\"value\":false},\"responsive_web_moment_maker_enabled\":{\"value\":false},\"responsive_web_multiple_account_limit\":{\"value\":5},\"responsive_web_narrow_tweet_actions_enabled\":{\"value\":false},\"responsive_web_new_client_events_enabled\":{\"value\":false},\"responsive_web_not_my_account_screen_enabled\":{\"value\":false},\"responsive_web_ntab_verified_mentions_vit_internal_dogfood\":{\"value\":false},\"responsive_web_ocf_sms_autoverify_enabled\":{\"value\":false},\"responsive_web_promoted_trends_event_migration_enabled\":{\"value\":false},\"responsive_web_quick_promote_enabled\":{\"value\":false},\"responsive_web_redirect_to_app_enabled\":{\"value\":true},\"responsive_web_report_page_not_found\":{\"value\":false},\"responsive_web_rich_tweet_landing_enabled\":{\"value\":true},\"responsive_web_scheduling_edit_enabled\":{\"value\":false},\"responsive_web_scheduling_enabled\":{\"value\":false},\"responsive_web_scheduling_entry_point\":{\"value\":\"overflow\"},\"responsive_web_scroller_autopoll_enabled\":{\"value\":false},\"responsive_web_scroller_v3_enabled\":{\"value\":false},\"responsive_web_search_dms_enabled\":{\"value\":true},\"responsive_web_second_degree_replies_nudge_force_enabled\":{\"value\":false},\"responsive_web_second_degree_replies_nudge_get_enabled\":{\"value\":false},\"responsive_web_second_degree_replies_nudge_show_enabled\":{\"value\":false},\"responsive_web_serviceworker_safari_disabled\":{\"value\":false},\"responsive_web_settings_revamp_enabled\":{\"value\":false},\"responsive_web_settings_timeline_refresh_enabled\":{\"value\":false},\"responsive_web_settings_timeline_refresh_instant_default\":{\"value\":true},\"responsive_web_sports_carousel\":{\"value\":false},\"responsive_web_trends_setting_new_endpoints\":{\"value\":true},\"responsive_web_trigger_test_backoff_on_bookmark\":{\"value\":false},\"responsive_web_tweet_drafts_enabled\":{\"value\":false},\"responsive_web_tweets_pill_local_enabled\":{\"value\":true},\"responsive_web_unified_cards_live_event_enabled\":{\"value\":true},\"responsive_web_unified_cards_poll2choice_image_enabled\":{\"value\":true},\"responsive_web_unified_cards_poll2choice_video_enabled\":{\"value\":true},\"responsive_web_unified_cards_poll3choice_image_enabled\":{\"value\":true},\"responsive_web_unified_cards_poll3choice_video_enabled\":{\"value\":true},\"responsive_web_unified_cards_poll4choice_image_enabled\":{\"value\":true},\"responsive_web_unified_cards_poll4choice_video_enabled\":{\"value\":true},\"responsive_web_unsupported_entry_tombstone\":{\"value\":false},\"responsive_web_use_app_prompt_copy_variant\":{\"value\":\"prompt_better\"},\"responsive_web_use_app_prompt_enabled\":{\"value\":true},\"responsive_web_verification_v2_enabled\":{\"value\":true},\"responsive_web_video_native_fullscreen_enabled\":{\"value\":true},\"responsive_web_video_promoted_logging_enabled\":{\"value\":true},\"responsive_web_vod_muted_captions_enabled\":{\"value\":true},\"responsive_web_vs_config_desktop_assumed_item_height\":{\"value\":100},\"responsive_web_vs_config_resize_observer_enabled\":{\"value\":true},\"responsive_web_zipkin_api_requests_enabled\":{\"value\":false},\"responsive_web_zipkin_api_requests_paths_allowlist\":{\"value\":[\"/2/timeline/home.json\"]},\"scribe_api_error_sample_size\":{\"value\":0},\"scribe_api_sample_size\":{\"value\":100},\"scribe_cdn_host_list\":{\"value\":[\"si0.twimg.com\",\"si1.twimg.com\",\"si2.twimg.com\",\"si3.twimg.com\",\"a0.twimg.com\",\"a1.twimg.com\",\"a2.twimg.com\",\"a3.twimg.com\",\"abs.twimg.com\",\"amp.twimg.com\",\"o.twimg.com\",\"pbs.twimg.com\",\"pbs-eb.twimg.com\",\"pbs-ec.twimg.com\",\"pbs-v6.twimg.com\",\"pbs-h1.twimg.com\",\"pbs-h2.twimg.com\",\"video.twimg.com\",\"platform.twitter.com\",\"cdn.api.twitter.com\",\"ton.twimg.com\",\"v.cdn.vine.co\",\"mtc.cdn.vine.co\",\"edge.vncdn.co\",\"mid.vncdn.co\"]},\"scribe_cdn_sample_size\":{\"value\":50},\"search_channels_description_enabled\":{\"value\":true},\"search_channels_discovery_page_enabled\":{\"value\":false},\"search_features_deep_link_request_params_enabled\":{\"value\":true},\"soft_interventions_forward_pivot_enabled\":{\"value\":true},\"soft_interventions_inner_qt_forward_pivot_enabled\":{\"value\":false},\"topic_landing_page_enabled\":{\"value\":true},\"topic_landing_page_share_enabled\":{\"value\":false},\"topics_descriptions_enabled\":{\"value\":true},\"topics_dismiss_control_enabled\":{\"value\":true},\"topics_follow_graphql_migration_enabled\":{\"value\":true},\"topics_followed_graphql_migration_enabled\":{\"value\":true},\"topics_new_mgmt_enabled\":{\"value\":true},\"topics_new_social_context_bottom_border_enabled\":{\"value\":false},\"topics_new_social_context_enabled\":{\"value\":false},\"topics_new_social_context_icon_color_enabled\":{\"value\":false},\"topics_peek_home_enabled\":{\"value\":false},\"topics_peek_search_enabled\":{\"value\":false},\"topics_unfollow_graphql_migration_enabled\":{\"value\":true},\"traffic_rewrite_map\":{\"value\":[]},\"tweet_limited_actions_config_enabled\":{\"value\":true},\"tweet_limited_actions_config_non_compliant\":{\"value\":[\"reply\",\"retweet\",\"like\",\"send_via_dm\",\"add_to_bookmarks\",\"add_to_moment\",\"pin_to_profile\",\"view_tweet_activity\",\"share_tweet_via\"]},\"unified_cards_cta_color_blue_cta\":{\"value\":true},\"user_display_name_max_limit\":{\"value\":50},\"web_video_bitrate_persistence_enabled\":{\"value\":false},\"web_video_hls_android_mse_enabled\":{\"value\":true},\"web_video_hls_mp4_threshold_sec\":{\"value\":0},\"web_video_hlsjs_max_buffer_length_pause\":{\"value\":3},\"web_video_hlsjs_max_buffer_length_play\":{\"value\":3},\"web_video_hlsjs_version\":{\"value\":\"\"}},\"debug\":{},\"impression_pointers\":{\"responsive_web_redirect_to_app_enabled\":[\"rweb_redirect_to_app_10853\"]},\"impressions\":{\"rweb_redirect_to_app_10853\":{\"key\":\"rweb_redirect_to_app_10853\",\"bucket\":\"treatment\",\"version\":2}},\"featureSetToken\":\"ee9f582a3d8439e13462ff186fa89ba6a03fff70\",\"isLoaded\":true,\"isLoading\":false,\"keysRead\":{},\"settingsVersion\":\"8238d5173cfb8b49f39128f61dd71a0d\"},\"urt\":{},\"entities\":{\"users\":{\"entities\":{},\"errors\":{},\"fetchStatus\":{}},\"tweets\":{\"entities\":{},\"errors\":{},\"fetchStatus\":{}},\"cards\":{\"entities\":{},\"errors\":{},\"fetchStatus\":{}}},\"toasts\":[],\"devices\":{\"browserPush\":{\"fetchStatus\":\"none\",\"pushNotificationsPrompt\":{\"dismissed\":false,\"fetchStatus\":\"none\"},\"subscribed\":false,\"supported\":null},\"devices\":{\"data\":{\"emails\":[],\"phone_numbers\":[]},\"fetchStatus\":\"none\"},\"notificationSettings\":{\"push_settings\":{\"error\":null,\"fetchStatus\":\"none\"},\"push_settings_template\":{\"template\":{\"settings\":[]}},\"sms_settings\":{\"error\":null,\"fetchStatus\":\"none\"},\"sms_settings_template\":{\"template\":{\"settings\":[]}},\"checkin_time\":null}},\"typeaheadUsers\":{\"fetchStatus\":\"none\",\"users\":{},\"denylist\":{},\"lastUpdated\":0,\"index\":{}},\"session\":{\"country\":\"CA\",\"emailLiteLoginEligibility\":{\"fetchStatus\":\"none\"},\"guestId\":\"159725553293916956\",\"language\":\"en\",\"oneFactorLoginEligibility\":{\"fetchStatus\":\"none\"}},\"settings\":{\"local\":{\"nextPushCheckin\":0,\"shouldAutoPlayGif\":false,\"scale\":\"normal\",\"themeColor\":\"blue\",\"highContrastEnabled\":false,\"themeBackground\":\"light\",\"loginPromptLastShown\":0,\"mediaPreviewsEnabled\":true,\"reducedMotionEnabled\":false,\"conversationTreeEnabled\":false,\"showTweetMediaDetailDrawer\":true},\"remote\":{\"settings\":{\"display_sensitive_media\":false},\"fetchStatus\":\"none\"},\"dataSaver\":{\"dataSaverMode\":false},\"transient\":{\"dtabBarInfo\":{\"dtabAll\":null,\"dtabRweb\":null,\"hide\":false},\"loginPromptShown\":false,\"lastViewedDmInboxPath\":\"/messages\",\"themeFocus\":\"\"}},\"hashflags\":{\"fetchStatus\":\"none\",\"hashflags\":{}}};\n",
      "window.__META_DATA__ = {\"env\":\"prod\",\"isFromDynamicRenderer\":false,\"isLoggedIn\":false,\"isRTL\":false,\"hasMultiAccountCookie\":false,\"uaParserTags\":[\"m2\",\"rweb_unsupported\",\"msw\"],\"serverDate\":1597255532978,\"sha\":\"99adacee8033b387b793733945f56ac03573bd07\"};\n",
      "   </script>\n",
      "   <script nonce=\"YjJhYTVjNTAtNDkyYi00YTY5LTkxNTEtOTk2ODg0NmNkYmQx\">\n",
      "    document.cookie = decodeURIComponent(\"gt=1293609581336244225; Max-Age=10800; Domain=.twitter.com; Path=/; Secure\");\n",
      "   </script>\n",
      "   <script charset=\"utf-8\" nonce=\"YjJhYTVjNTAtNDkyYi00YTY5LTkxNTEtOTk2ODg0NmNkYmQx\" type=\"text/javascript\">\n",
      "    window.__SCRIPTS_LOADED__ = {};\n",
      "  !function(e){function n(n){for(var o,t,i=n[0],c=n[1],l=n[2],b=0,s=[];b<i.length;b++)t=i[b],Object.prototype.hasOwnProperty.call(a,t)&&a[t]&&s.push(a[t][0]),a[t]=0;for(o in c)Object.prototype.hasOwnProperty.call(c,o)&&(e[o]=c[o]);for(u&&u(n);s.length;)s.shift()();return r.push.apply(r,l||[]),d()}function d(){for(var e,n=0;n<r.length;n++){for(var d=r[n],o=!0,i=1;i<d.length;i++){var c=d[i];0!==a[c]&&(o=!1)}o&&(r.splice(n--,1),e=t(t.s=d[0]))}return e}var o={},a={1:0},r=[];function t(n){if(o[n])return o[n].exports;var d=o[n]={i:n,l:!1,exports:{}};return e[n].call(d.exports,d,d.exports,t),d.l=!0,d.exports}t.e=function(e){var n=[],d=a[e];if(0!==d)if(d)n.push(d[2]);else{var o=new Promise((function(n,o){d=a[e]=[n,o]}));n.push(d[2]=o);var r,i=document.createElement(\"script\");i.charset=\"utf-8\",i.timeout=120,t.nc&&i.setAttribute(\"nonce\",t.nc),i.src=function(e){return t.p+\"\"+({0:\"sharedCore\",3:\"shared~loader.DMDrawer~bundle.Compose~bundle.RichTextCompose~bundle.DirectMessages~bundle.DMRichTextCompose~b\",4:\"shared~bundle.ComposeMedia~bundle.Display~bundle.Ocf~bundle.Settings~bundle.SettingsProfile~bundle.UserLists~\",5:\"shared~bundle.ComposeMedia~bundle.Ocf~bundle.SettingsProfile~bundle.UserLists\",6:\"shared~bundle.DirectMessages~bundle.TweetMediaDetail~bundle.UserAvatar~bundle.UserHeader\",7:\"shared~bundle.Compose~bundle.RichTextCompose~bundle.PlainTextCompose\",8:\"shared~bundle.Place~bundle.Search~bundle.QuoteTweetActivity\",9:\"shared~bundle.RichTextCompose~bundle.DMRichTextCompose~ondemand.RichText\",10:\"shared~bundle.Settings~ondemand.SettingsInternals~bundle.SettingsTransparency\",11:\"shared~loader.DMDrawer~bundle.DirectMessages~bundle.DMRichTextCompose\",12:\"shared~bundle.Display~bundle.Settings\",13:\"shared~bundle.Explore~loader.ExploreSidebar\",14:\"shared~bundle.LiveEvent~bundle.UserMoments\",15:\"shared~bundle.TopicPeek~ondemand.EmojiPicker\",16:\"shared~loader.DashMenu~bundle.Account\",17:\"shared~ondemand.lex~loaders.video.PlayerBase\",18:\"bundle.AboutThisAd\",19:\"bundle.Account\",20:\"bundle.AdvancedSearch\",22:\"bundle.Bookmarks\",23:\"bundle.Collection\",24:\"bundle.Compose\",25:\"bundle.ComposeMedia\",26:\"bundle.ConnectTab\",27:\"bundle.Conversation\",28:\"bundle.ConversationParticipants\",29:\"bundle.DMRichTextCompose\",30:\"bundle.DirectMessages\",31:\"bundle.Display\",32:\"bundle.Download\",33:\"bundle.Explore\",34:\"bundle.ExploreTopics\",35:\"bundle.FollowerRequests\",36:\"bundle.GenericTimeline\",37:\"bundle.GifSearch\",38:\"bundle.HomeTimeline\",39:\"bundle.KeyboardShortcuts\",40:\"bundle.LiveEvent\",41:\"bundle.LoggedOutHome\",42:\"bundle.Login\",43:\"bundle.Logout\",44:\"bundle.Moment\",45:\"bundle.MomentMaker\",46:\"bundle.MultiAccount\",47:\"bundle.NetworkInstrument\",48:\"bundle.NotMyAccount\",49:\"bundle.NotificationDetail\",50:\"bundle.Notifications\",51:\"bundle.Ocf\",52:\"bundle.Place\",53:\"bundle.PlainTextCompose\",54:\"bundle.ProfileRedirect\",55:\"bundle.QuoteTweetActivity\",56:\"bundle.Report\",57:\"bundle.RichTextCompose\",58:\"bundle.Search\",59:\"bundle.Settings\",60:\"bundle.SettingsInternals\",61:\"bundle.SettingsProfile\",62:\"bundle.SettingsTransparency\",63:\"bundle.SmsLogin\",64:\"bundle.TopicPeek\",65:\"bundle.Topics\",66:\"bundle.Trends\",67:\"bundle.TweetActivity\",68:\"bundle.TweetMediaDetail\",69:\"bundle.TweetMediaTags\",70:\"bundle.Twitterversary\",71:\"bundle.UserAvatar\",72:\"bundle.UserFollowLists\",73:\"bundle.UserHeader\",74:\"bundle.UserLists\",75:\"bundle.UserMoments\",76:\"bundle.UserProfile\",77:\"bundle.UserRedirect\",127:\"loader.AbsolutePower\",128:\"loader.AppModules\",129:\"loader.DMDrawer\",130:\"loader.DashMenu\",131:\"loader.ExploreSidebar\",132:\"loader.FeedbackSheet\",133:\"loader.FeedbackTombstone\",134:\"loader.HWCard\",135:\"loader.NewTweetsPill\",136:\"loader.PeriscopeOverlay\",137:\"loader.ProfileClusterFollow\",138:\"loader.PushNotificationsPrompt\",139:\"loader.SideNav\",140:\"loader.SignupModule\",141:\"loader.TimelineGap\",142:\"loader.TimelineRenderer\",143:\"loader.TweetCurationActionMenu\",144:\"loader.TweetPhotos\",145:\"loader.Typeahead\",146:\"loader.WideLayout\",147:\"loader.directMessagesData\",148:\"loader.graphQLDarkReads\",149:\"loader.personalizationData\",150:\"loaders.video.PlayerBase\",151:\"loaders.video.PlayerHls13\",152:\"loaders.video.PlayerUi\",153:\"loaders.video.VideoPlayerDefaultUI\",155:\"ondemand.Balloons\",156:\"ondemand.BranchSdk\",157:\"ondemand.CarouselScroller\",158:\"ondemand.ComposeScheduling\",159:\"ondemand.Dropdown\",160:\"ondemand.EditBirthdate\",161:\"ondemand.EditPinned\",162:\"ondemand.EmojiPicker\",163:\"ondemand.HoverCard\",164:\"ondemand.InlinePlayer\",165:\"ondemand.IntentPrompt\",166:\"ondemand.LottieWeb\",167:\"ondemand.MicrosoftInterface\",168:\"ondemand.ProfileSidebar\",169:\"ondemand.RichText\",170:\"ondemand.SettingsInternals\",171:\"ondemand.countries-ar\",172:\"ondemand.countries-bg\",173:\"ondemand.countries-bn\",174:\"ondemand.countries-ca\",175:\"ondemand.countries-cs\",176:\"ondemand.countries-da\",177:\"ondemand.countries-de\",178:\"ondemand.countries-el\",179:\"ondemand.countries-en\",180:\"ondemand.countries-en-GB\",181:\"ondemand.countries-es\",182:\"ondemand.countries-eu\",183:\"ondemand.countries-fa\",184:\"ondemand.countries-fi\",185:\"ondemand.countries-fil\",186:\"ondemand.countries-fr\",187:\"ondemand.countries-ga\",188:\"ondemand.countries-gl\",189:\"ondemand.countries-gu\",190:\"ondemand.countries-he\",191:\"ondemand.countries-hi\",192:\"ondemand.countries-hr\",193:\"ondemand.countries-hu\",194:\"ondemand.countries-id\",195:\"ondemand.countries-it\",196:\"ondemand.countries-ja\",197:\"ondemand.countries-kn\",198:\"ondemand.countries-ko\",199:\"ondemand.countries-mr\",200:\"ondemand.countries-ms\",201:\"ondemand.countries-nb\",202:\"ondemand.countries-nl\",203:\"ondemand.countries-pl\",204:\"ondemand.countries-pt\",205:\"ondemand.countries-ro\",206:\"ondemand.countries-ru\",207:\"ondemand.countries-sk\",208:\"ondemand.countries-sr\",209:\"ondemand.countries-sv\",210:\"ondemand.countries-ta\",211:\"ondemand.countries-th\",212:\"ondemand.countries-tr\",213:\"ondemand.countries-uk\",214:\"ondemand.countries-ur\",215:\"ondemand.countries-zh\",216:\"ondemand.countries-zh-Hant\",217:\"ondemand.emoji.ar\",218:\"ondemand.emoji.bg\",219:\"ondemand.emoji.bn\",220:\"ondemand.emoji.ca\",2222:\"ondemand.emoji.da\",223:\"ondemand.emoji.de\",224:\"ondemand.emoji.el\",225:\"ondemand.emoji.en\",226:\"ondemand.emoji.en-GB\",227:\"ondemand.emoji.en-ss\",228:\"ondemand.emoji.en-xx\",229:\"ondemand.emoji.es\",230:\"ondemand.emoji.eu\",231:\"ondemand.emoji.fa\",232:\"ondemand.emoji.fi\",233:\"ondemand.emoji.fil\",234:\"ondemand.emoji.fr\",235:\"ondemand.emoji.ga\",236:\"ondemand.emoji.gl\",237:\"ondemand.emoji.gu\",238:\"ondemand.emoji.he\",239:\"ondemand.emoji.hi\",240:\"ondemand.emoji.hr\",241:\"ondemand.emoji.hu\",242:\"ondemand.emoji.id\",243:\"ondemand.emoji.it\",244:\"ondemand.emoji.ja\",245:\"ondemand.emoji.kn\",246:\"ondemand.emoji.ko\",247:\"ondemand.emoji.mr\",248:\"ondemand.emoji.ms\",249:\"ondemand.emoji.nb\",250:\"ondemand.emoji.nl\",251:\"ondemand.emoji.pl\",252:\"ondemand.emoji.pt\",253:\"ondemand.emoji.ro\",254:\"ondemand.emoji.ru\",255:\"ondemand.emoji.sk\",256:\"ondemand.emoji.sr\",257:\"ondemand.emoji.sv\",258:\"ondemand.emoji.ta\",259:\"ondemand.emoji.th\",260:\"ondemand.emoji.tr\",261:\"ondemand.emoji.uk\",262:\"ondemand.emoji.ur\",263:\"ondemand.emoji.vi\",264:\"ondemand.emoji.zh\",265:\"ondemand.emoji.zh-Hant\",266:\"ondemand.framerateTracking\",267:\"ondemand.lex\",268:\"ondemand.video.PlayerHls12\"}[e]||e)+\".\"+{0:\"3154a49\",3:\"1ec01e6\",4:\"d6dbf54\",5:\"61bd9d6\",6:\"3ab4a89\",7:\"bfde3bb\",8:\"169303c\",9:\"1391dcd\",10:\"244a2b7\",11:\"5c0dbda\",12:\"589a4ec\",13:\"13fbab9\",14:\"f478b7a\",15:\"94bb32c\",16:\"df722a0\",17:\"8b2f533\",18:\"884ee9e\",19:\"bd24cc1\",20:\"25c5fed\",22:\"5224fd1\",23:\"21a1aba\",24:\"002bb9b\",25:\"f57e096\",26:\"2e3cbe1\",27:\"cfad6a7\",28:\"20107ea\",29:\"0c521b7\",30:\"949381b\",31:\"2a30bdf\",32:\"bbe42a9\",33:\"63a29c7\",34:\"8797188\",35:\"4ebf2c2\",36:\"cfceca6\",37:\"d5dea3c\",38:\"e061337\",39:\"9f6ae19\",40:\"cab81fc\",41:\"d96fbb7\",42:\"bb3b4ad\",43:\"cc66e86\",44:\"9ecc52b\",45:\"b00a5a8\",46:\"b318a8b\",47:\"22c6943\",48:\"61de471\",49:\"5e3558f\",50:\"ab92abc\",51:\"629d11b\",52:\"0b97896\",53:\"f473a6d\",54:\"33714d4\",55:\"b35dd5d\",56:\"90773b2\",57:\"779835e\",58:\"98acf39\",59:\"4345dfb\",60:\"12286af\",61:\"116fcfd\",62:\"fad4532\",63:\"6170664\",64:\"b5e4344\",65:\"fd725f8\",66:\"adb2bce\",67:\"1719475\",68:\"7e231db\",69:\"1700327\",70:\"359d3f7\",71:\"68b0661\",72:\"207fbde\",73:\"a8f8e58\",74:\"5060f9b\",75:\"e4718f6\",76:\"16af9c5\",77:\"8cbbd8a\",127:\"abfff30\",128:\"848d4ea\",129:\"c700803\",130:\"ddcbe1d\",131:\"0f7a04b\",132:\"2a9ab09\",133:\"eb7e413\",134:\"4a31ece\",135:\"b6a6a54\",136:\"cd441bb\",137:\"ba138a3\",138:\"49e4b37\",139:\"4f095a3\",140:\"08dc801\",141:\"6f76030\",142:\"73c49c7\",143:\"d5a67f8\",144:\"8c27a28\",145:\"b5b78f6\",146:\"3421450\",147:\"acd3ea0\",148:\"5298954\",149:\"6ba3261\",150:\"87182aa\",151:\"26bd4d3\",152:\"9f79a3e\",153:\"d30fe8c\",155:\"51e5d38\",156:\"ff2524e\",157:\"05df740\",158:\"2751c06\",159:\"39f58ac\",160:\"9f69947\",161:\"2685cc8\",162:\"cf2e4f1\",163:\"9e81d9d\",164:\"9f0d7c0\",165:\"95fecb4\",166:\"590aa27\",167:\"8e5027c\",168:\"48a675d\",169:\"ea65c67\",170:\"a6d02a1\",171:\"2b0d584\",172:\"7627131\",173:\"a1e5da9\",174:\"7c58d50\",175:\"902076b\",176:\"0508798\",177:\"f8d0513\",178:\"7862261\",179:\"e695f19\",180:\"8769a51\",181:\"163a441\",182:\"c36f168\",183:\"8eb9f49\",184:\"ef63e76\",185:\"4ec7162\",186:\"9cbc571\",187:\"b55cfd1\",188:\"c821361\",189:\"c27fc51\",190:\"abe667c\",191:\"cbed4c1\",192:\"c791221\",193:\"3d66cf1\",194:\"1c84d98\",195:\"cf7c864\",196:\"5e61197\",197:\"3a52659\",198:\"b405c79\",199:\"a35645c\",200:\"10d7acc\",201:\"846e605\",202:\"9a74c51\",203:\"f7575a1\",204:\"8213707\",205:\"ae97d4e\",206:\"b8cbf9b\",207:\"d07594a\",208:\"daa4061\",209:\"a1ad1a5\",210:\"746be41\",211:\"c125f31\",212:\"b122d23\",213:\"34320f7\",214:\"2f44715\",215:\"3238f59\",216:\"47d1935\",217:\"06d9a7f\",218:\"76575ab\",219:\"282f2dc\",220:\"d3133db\",2222:\"7133e2f\",223:\"4804baa\",224:\"406ad5c\",225:\"eb50719\",226:\"7580455\",227:\"cab47da\",228:\"96bafca\",229:\"69f00f2\",230:\"db6818a\",231:\"08a274a\",232:\"7646661\",233:\"7c29a23\",234:\"ddd6690\",235:\"cdce5a7\",236:\"b000006\",237:\"664c259\",238:\"15da3bb\",239:\"97270dd\",240:\"8dfffc4\",241:\"e7e0e4a\",242:\"1fcfd0a\",243:\"e286d72\",244:\"7036933\",245:\"e60aeb4\",246:\"0535e95\",247:\"e60c691\",248:\"1602e3b\",249:\"9d6a3a4\",250:\"b5f0dc7\",251:\"ecd8db5\",252:\"7635f6f\",253:\"f4babec\",254:\"6943a12\",255:\"b0a8397\",256:\"effc7dd\",257:\"b02b060\",258:\"8553ad4\",259:\"ed5ef86\",260:\"ba0dc97\",261:\"98610d9\",262:\"9a5ca8d\",263:\"944772d\",264:\"778876e\",265:\"38e7d48\",266:\"5a4024b\",267:\"6687ee9\",268:\"62e75cc\"}[e]+\"5.js\"}(e);var c=new Error;r=function(n){i.onerror=i.onload=null,clearTimeout(l);var d=a[e];if(0!==d){if(d){var o=n&&(\"load\"===n.type?\"missing\":n.type),r=n&&n.target&&n.target.src;c.message=\"Loading chunk \"+e+\" failed.\\n(\"+o+\": \"+r+\")\",c.name=\"ChunkLoadError\",c.type=o,c.request=r,d[1](c)}a[e]=void 0}};var l=setTimeout((function(){r({type:\"timeout\",target:i})}),12e4);i.onerror=i.onload=r,document.head.appendChild(i)}return Promise.all(n)},t.m=e,t.c=o,t.d=function(e,n,d){t.o(e,n)||Object.defineProperty(e,n,{enumerable:!0,get:d})},t.r=function(e){\"undefined\"!=typeof Symbol&&Symbol.toStringTag&&Object.defineProperty(e,Symbol.toStringTag,{value:\"Module\"}),Object.defineProperty(e,\"__esModule\",{value:!0})},t.t=function(e,n){if(1&n&&(e=t(e)),8&n)return e;if(4&n&&\"object\"==typeof e&&e&&e.__esModule)return e;var d=Object.create(null);if(t.r(d),Object.defineProperty(d,\"default\",{enumerable:!0,value:e}),2&n&&\"string\"!=typeof e)for(var o in e)t.d(d,o,function(n){return e[n]}.bind(null,o));return d},t.n=function(e){var n=e&&e.__esModule?function(){return e.default}:function(){return e};return t.d(n,\"a\",n),n},t.o=function(e,n){return Object.prototype.hasOwnProperty.call(e,n)},t.p=\"https://abs.twimg.com/responsive-web/client-web-legacy/\",t.oe=function(e){throw e};var i=window.webpackJsonp=window.webpackJsonp||[],c=i.push.bind(i);i.push=n,i=i.slice();for(var l=0;l<i.length;l++)n(i[l]);var u=c;d()}([]),window.__SCRIPTS_LOADED__.runtime=!0;\n",
      "   </script>\n",
      "   <script charset=\"utf-8\" crossorigin=\"anonymous\" nonce=\"YjJhYTVjNTAtNDkyYi00YTY5LTkxNTEtOTk2ODg0NmNkYmQx\" src=\"https://abs.twimg.com/responsive-web/client-web-legacy/polyfills.b0114665.js\" type=\"text/javascript\">\n",
      "   </script>\n",
      "   <script charset=\"utf-8\" crossorigin=\"anonymous\" nonce=\"YjJhYTVjNTAtNDkyYi00YTY5LTkxNTEtOTk2ODg0NmNkYmQx\" src=\"https://abs.twimg.com/responsive-web/client-web-legacy/vendors~main.5f094565.js\" type=\"text/javascript\">\n",
      "   </script>\n",
      "   <script charset=\"utf-8\" crossorigin=\"anonymous\" nonce=\"YjJhYTVjNTAtNDkyYi00YTY5LTkxNTEtOTk2ODg0NmNkYmQx\" src=\"https://abs.twimg.com/responsive-web/client-web-legacy/i18n/en.8e45dc55.js\" type=\"text/javascript\">\n",
      "   </script>\n",
      "   <script charset=\"utf-8\" crossorigin=\"anonymous\" nonce=\"YjJhYTVjNTAtNDkyYi00YTY5LTkxNTEtOTk2ODg0NmNkYmQx\" src=\"https://abs.twimg.com/responsive-web/client-web-legacy/main.af0ab7c5.js\" type=\"text/javascript\">\n",
      "   </script>\n",
      "   <script nonce=\"YjJhYTVjNTAtNDkyYi00YTY5LTkxNTEtOTk2ODg0NmNkYmQx\">\n",
      "    if (!window.__SCRIPTS_LOADED__['main']) {\n",
      "    document.getElementById('ScriptLoadFailure').style.display = 'block';\n",
      "  }\n",
      "   </script>\n",
      "  </body>\n",
      " </link>\n",
      "</html>\n"
     ]
    }
   ],
   "source": [
    "#parse twitter \n",
    "bs_twitter = bs(twitter_response_request.text, 'html.parser')\n",
    "print(bs_twitter.prettify())"
   ]
  },
  {
   "cell_type": "code",
   "execution_count": 77,
   "metadata": {},
   "outputs": [
    {
     "data": {
      "text/plain": [
       "'InSight sol 607 (2020-08-11) low -93.1ºC (-135.6ºF) high -18.9ºC (-2.1ºF) winds from the WNW at 8.2 m/s (18.4 mph) gusting to 21.4 m/s (47.8 mph) pressure at 7.90 hPa'"
      ]
     },
     "execution_count": 77,
     "metadata": {},
     "output_type": "execute_result"
    }
   ],
   "source": [
    "#mars weather\n",
    "mars_weather = \"InSight sol 607 (2020-08-11) low -93.1ºC (-135.6ºF) high -18.9ºC (-2.1ºF) winds from the WNW at 8.2 m/s (18.4 mph) gusting to 21.4 m/s (47.8 mph) pressure at 7.90 hPa\"\n",
    "mars_weather"
   ]
  },
  {
   "cell_type": "code",
   "execution_count": 36,
   "metadata": {},
   "outputs": [],
   "source": [
    "#mars facts\n",
    "mars_facts_url = \"https://space-facts.com/mars/\""
   ]
  },
  {
   "cell_type": "code",
   "execution_count": 40,
   "metadata": {},
   "outputs": [
    {
     "data": {
      "text/plain": [
       "[                      0                              1\n",
       " 0  Equatorial Diameter:                       6,792 km\n",
       " 1       Polar Diameter:                       6,752 km\n",
       " 2                 Mass:  6.39 × 10^23 kg (0.11 Earths)\n",
       " 3                Moons:            2 (Phobos & Deimos)\n",
       " 4       Orbit Distance:       227,943,824 km (1.38 AU)\n",
       " 5         Orbit Period:           687 days (1.9 years)\n",
       " 6  Surface Temperature:                   -87 to -5 °C\n",
       " 7         First Record:              2nd millennium BC\n",
       " 8          Recorded By:           Egyptian astronomers,\n",
       "   Mars - Earth Comparison             Mars            Earth\n",
       " 0               Diameter:         6,779 km        12,742 km\n",
       " 1                   Mass:  6.39 × 10^23 kg  5.97 × 10^24 kg\n",
       " 2                  Moons:                2                1\n",
       " 3      Distance from Sun:   227,943,824 km   149,598,262 km\n",
       " 4         Length of Year:   687 Earth days      365.24 days\n",
       " 5            Temperature:    -153 to 20 °C      -88 to 58°C,\n",
       "                       0                              1\n",
       " 0  Equatorial Diameter:                       6,792 km\n",
       " 1       Polar Diameter:                       6,752 km\n",
       " 2                 Mass:  6.39 × 10^23 kg (0.11 Earths)\n",
       " 3                Moons:            2 (Phobos & Deimos)\n",
       " 4       Orbit Distance:       227,943,824 km (1.38 AU)\n",
       " 5         Orbit Period:           687 days (1.9 years)\n",
       " 6  Surface Temperature:                   -87 to -5 °C\n",
       " 7         First Record:              2nd millennium BC\n",
       " 8          Recorded By:           Egyptian astronomers]"
      ]
     },
     "execution_count": 40,
     "metadata": {},
     "output_type": "execute_result"
    }
   ],
   "source": [
    "#mars data extracted thru read html\n",
    "mars_data = pd.read_html(mars_facts_url)\n",
    "mars_data"
   ]
  },
  {
   "cell_type": "code",
   "execution_count": 42,
   "metadata": {},
   "outputs": [
    {
     "data": {
      "text/html": [
       "<div>\n",
       "<style scoped>\n",
       "    .dataframe tbody tr th:only-of-type {\n",
       "        vertical-align: middle;\n",
       "    }\n",
       "\n",
       "    .dataframe tbody tr th {\n",
       "        vertical-align: top;\n",
       "    }\n",
       "\n",
       "    .dataframe thead th {\n",
       "        text-align: right;\n",
       "    }\n",
       "</style>\n",
       "<table border=\"1\" class=\"dataframe\">\n",
       "  <thead>\n",
       "    <tr style=\"text-align: right;\">\n",
       "      <th></th>\n",
       "      <th>0</th>\n",
       "      <th>1</th>\n",
       "    </tr>\n",
       "  </thead>\n",
       "  <tbody>\n",
       "    <tr>\n",
       "      <th>0</th>\n",
       "      <td>Equatorial Diameter:</td>\n",
       "      <td>6,792 km</td>\n",
       "    </tr>\n",
       "    <tr>\n",
       "      <th>1</th>\n",
       "      <td>Polar Diameter:</td>\n",
       "      <td>6,752 km</td>\n",
       "    </tr>\n",
       "    <tr>\n",
       "      <th>2</th>\n",
       "      <td>Mass:</td>\n",
       "      <td>6.39 × 10^23 kg (0.11 Earths)</td>\n",
       "    </tr>\n",
       "    <tr>\n",
       "      <th>3</th>\n",
       "      <td>Moons:</td>\n",
       "      <td>2 (Phobos &amp; Deimos)</td>\n",
       "    </tr>\n",
       "    <tr>\n",
       "      <th>4</th>\n",
       "      <td>Orbit Distance:</td>\n",
       "      <td>227,943,824 km (1.38 AU)</td>\n",
       "    </tr>\n",
       "    <tr>\n",
       "      <th>5</th>\n",
       "      <td>Orbit Period:</td>\n",
       "      <td>687 days (1.9 years)</td>\n",
       "    </tr>\n",
       "    <tr>\n",
       "      <th>6</th>\n",
       "      <td>Surface Temperature:</td>\n",
       "      <td>-87 to -5 °C</td>\n",
       "    </tr>\n",
       "    <tr>\n",
       "      <th>7</th>\n",
       "      <td>First Record:</td>\n",
       "      <td>2nd millennium BC</td>\n",
       "    </tr>\n",
       "    <tr>\n",
       "      <th>8</th>\n",
       "      <td>Recorded By:</td>\n",
       "      <td>Egyptian astronomers</td>\n",
       "    </tr>\n",
       "  </tbody>\n",
       "</table>\n",
       "</div>"
      ],
      "text/plain": [
       "                      0                              1\n",
       "0  Equatorial Diameter:                       6,792 km\n",
       "1       Polar Diameter:                       6,752 km\n",
       "2                 Mass:  6.39 × 10^23 kg (0.11 Earths)\n",
       "3                Moons:            2 (Phobos & Deimos)\n",
       "4       Orbit Distance:       227,943,824 km (1.38 AU)\n",
       "5         Orbit Period:           687 days (1.9 years)\n",
       "6  Surface Temperature:                   -87 to -5 °C\n",
       "7         First Record:              2nd millennium BC\n",
       "8          Recorded By:           Egyptian astronomers"
      ]
     },
     "execution_count": 42,
     "metadata": {},
     "output_type": "execute_result"
    }
   ],
   "source": [
    "#mars data table\n",
    "mars_data_table = mars_data[0]\n",
    "mars_data_table"
   ]
  },
  {
   "cell_type": "code",
   "execution_count": 43,
   "metadata": {},
   "outputs": [
    {
     "data": {
      "text/html": [
       "<div>\n",
       "<style scoped>\n",
       "    .dataframe tbody tr th:only-of-type {\n",
       "        vertical-align: middle;\n",
       "    }\n",
       "\n",
       "    .dataframe tbody tr th {\n",
       "        vertical-align: top;\n",
       "    }\n",
       "\n",
       "    .dataframe thead th {\n",
       "        text-align: right;\n",
       "    }\n",
       "</style>\n",
       "<table border=\"1\" class=\"dataframe\">\n",
       "  <thead>\n",
       "    <tr style=\"text-align: right;\">\n",
       "      <th></th>\n",
       "      <th>Description</th>\n",
       "      <th>Values</th>\n",
       "    </tr>\n",
       "  </thead>\n",
       "  <tbody>\n",
       "    <tr>\n",
       "      <th>0</th>\n",
       "      <td>Equatorial Diameter:</td>\n",
       "      <td>6,792 km</td>\n",
       "    </tr>\n",
       "    <tr>\n",
       "      <th>1</th>\n",
       "      <td>Polar Diameter:</td>\n",
       "      <td>6,752 km</td>\n",
       "    </tr>\n",
       "    <tr>\n",
       "      <th>2</th>\n",
       "      <td>Mass:</td>\n",
       "      <td>6.39 × 10^23 kg (0.11 Earths)</td>\n",
       "    </tr>\n",
       "    <tr>\n",
       "      <th>3</th>\n",
       "      <td>Moons:</td>\n",
       "      <td>2 (Phobos &amp; Deimos)</td>\n",
       "    </tr>\n",
       "    <tr>\n",
       "      <th>4</th>\n",
       "      <td>Orbit Distance:</td>\n",
       "      <td>227,943,824 km (1.38 AU)</td>\n",
       "    </tr>\n",
       "    <tr>\n",
       "      <th>5</th>\n",
       "      <td>Orbit Period:</td>\n",
       "      <td>687 days (1.9 years)</td>\n",
       "    </tr>\n",
       "    <tr>\n",
       "      <th>6</th>\n",
       "      <td>Surface Temperature:</td>\n",
       "      <td>-87 to -5 °C</td>\n",
       "    </tr>\n",
       "    <tr>\n",
       "      <th>7</th>\n",
       "      <td>First Record:</td>\n",
       "      <td>2nd millennium BC</td>\n",
       "    </tr>\n",
       "    <tr>\n",
       "      <th>8</th>\n",
       "      <td>Recorded By:</td>\n",
       "      <td>Egyptian astronomers</td>\n",
       "    </tr>\n",
       "  </tbody>\n",
       "</table>\n",
       "</div>"
      ],
      "text/plain": [
       "            Description                         Values\n",
       "0  Equatorial Diameter:                       6,792 km\n",
       "1       Polar Diameter:                       6,752 km\n",
       "2                 Mass:  6.39 × 10^23 kg (0.11 Earths)\n",
       "3                Moons:            2 (Phobos & Deimos)\n",
       "4       Orbit Distance:       227,943,824 km (1.38 AU)\n",
       "5         Orbit Period:           687 days (1.9 years)\n",
       "6  Surface Temperature:                   -87 to -5 °C\n",
       "7         First Record:              2nd millennium BC\n",
       "8          Recorded By:           Egyptian astronomers"
      ]
     },
     "execution_count": 43,
     "metadata": {},
     "output_type": "execute_result"
    }
   ],
   "source": [
    "#mars data table with column headers\n",
    "mars_data_table.columns = ['Description', 'Values']\n",
    "mars_data_table"
   ]
  },
  {
   "cell_type": "code",
   "execution_count": 56,
   "metadata": {},
   "outputs": [],
   "source": [
    "#mars hemisphere\n",
    "browser_hemi = Browser('chrome', headless = False)"
   ]
  },
  {
   "cell_type": "code",
   "execution_count": 57,
   "metadata": {},
   "outputs": [],
   "source": [
    "#open browser\n",
    "mars_hemi_url = 'https://astrogeology.usgs.gov/search/results?q=hemisphere+enhanced&k1=target&v1=Mars'\n",
    "browser_hemi.visit(mars_hemi_url)"
   ]
  },
  {
   "cell_type": "code",
   "execution_count": 58,
   "metadata": {},
   "outputs": [],
   "source": [
    "#soup text\n",
    "response_hemi = requests.get(mars_hemi_url)\n",
    "soup_hemi = bs(response_hemi.text, 'html.parser')"
   ]
  },
  {
   "cell_type": "code",
   "execution_count": 60,
   "metadata": {},
   "outputs": [],
   "source": [
    "#looping thru soup script\n",
    "mars_links = []\n",
    "for i in soup_hemi.find_all('a'):\n",
    "    mars_links.append(i.get('href'))"
   ]
  },
  {
   "cell_type": "code",
   "execution_count": 61,
   "metadata": {},
   "outputs": [],
   "source": [
    "#arranging links\n",
    "astro_url = 'https://astrogeology.usgs.gov'\n",
    "link_1 = astro_url+mars_links[4]\n",
    "link_2 = astro_url+mars_links[5]\n",
    "link_3 = astro_url+mars_links[6]\n",
    "link_4 = astro_url+mars_links[7]"
   ]
  },
  {
   "cell_type": "code",
   "execution_count": 62,
   "metadata": {},
   "outputs": [],
   "source": [
    "#parsing images\n",
    "browser_hemi.visit(link_1)\n",
    "response_1 = requests.get(link_1)\n",
    "soup_1 = bs(response_1.text, 'html.parser')\n",
    "title_1 = soup_1.h2.text\n",
    "link_image_1 = soup_1.li.a['href']\n",
    "browser_hemi.back()\n",
    "\n",
    "browser_hemi.visit(link_2)\n",
    "response_2 = requests.get(link_2)\n",
    "soup_2 = bs(response_2.text, 'html.parser')\n",
    "title_2 = soup_2.h2.text\n",
    "link_image_2 = soup_2.li.a['href']\n",
    "browser_hemi.back()\n",
    "\n",
    "browser_hemi.visit(link_3)\n",
    "response_3 = requests.get(link_3)\n",
    "soup_3 = bs(response_3.text, 'html.parser')\n",
    "title_3 = soup_3.h2.text\n",
    "link_image_3 = soup_3.li.a['href']\n",
    "browser_hemi.back()\n",
    "\n",
    "browser_hemi.visit(link_4)\n",
    "response_4 = requests.get(link_4)\n",
    "soup_4 = bs(response_4.text, 'html.parser')\n",
    "title_4 = soup_4.h2.text\n",
    "link_image_4 = soup_4.li.a['href']\n",
    "browser_hemi.quit()"
   ]
  },
  {
   "cell_type": "code",
   "execution_count": 63,
   "metadata": {},
   "outputs": [],
   "source": [
    "#image link dictionary\n",
    "hemis_image_urls_dict = [{\"title\":title_1, \"img_url\": link_image_1},\n",
    "                        {\"title\":title_2, \"img_url\": link_image_2},\n",
    "                        {\"title\":title_3, \"img_url\": link_image_3},\n",
    "                        {\"title\":title_4, \"img_url\": link_image_4}]"
   ]
  },
  {
   "cell_type": "code",
   "execution_count": 64,
   "metadata": {},
   "outputs": [
    {
     "data": {
      "text/plain": [
       "[{'title': 'Cerberus Hemisphere Enhanced',\n",
       "  'img_url': 'https://astropedia.astrogeology.usgs.gov/download/Mars/Viking/cerberus_enhanced.tif/full.jpg'},\n",
       " {'title': 'Schiaparelli Hemisphere Enhanced',\n",
       "  'img_url': 'https://astropedia.astrogeology.usgs.gov/download/Mars/Viking/schiaparelli_enhanced.tif/full.jpg'},\n",
       " {'title': 'Syrtis Major Hemisphere Enhanced',\n",
       "  'img_url': 'https://astropedia.astrogeology.usgs.gov/download/Mars/Viking/syrtis_major_enhanced.tif/full.jpg'},\n",
       " {'title': 'Valles Marineris Hemisphere Enhanced',\n",
       "  'img_url': 'https://astropedia.astrogeology.usgs.gov/download/Mars/Viking/valles_marineris_enhanced.tif/full.jpg'}]"
      ]
     },
     "execution_count": 64,
     "metadata": {},
     "output_type": "execute_result"
    }
   ],
   "source": [
    "hemis_image_urls_dict"
   ]
  },
  {
   "cell_type": "code",
   "execution_count": 78,
   "metadata": {},
   "outputs": [
    {
     "data": {
      "text/plain": [
       "[\"Celebrate Mars Reconnaissance Orbiter's Views From Above\",\n",
       " 'Marking its 15th anniversary since launch, one of the oldest spacecraft at the Red Planet has provided glimpses of dust devils, avalanches, and more.',\n",
       " 'https://www.jpl.nasa.gov/spaceimages/images/wallpaper/PIA19334-1920x1200.jpg',\n",
       " 'InSight sol 607 (2020-08-11) low -93.1ºC (-135.6ºF) high -18.9ºC (-2.1ºF) winds from the WNW at 8.2 m/s (18.4 mph) gusting to 21.4 m/s (47.8 mph) pressure at 7.90 hPa',\n",
       "             Description                         Values\n",
       " 0  Equatorial Diameter:                       6,792 km\n",
       " 1       Polar Diameter:                       6,752 km\n",
       " 2                 Mass:  6.39 × 10^23 kg (0.11 Earths)\n",
       " 3                Moons:            2 (Phobos & Deimos)\n",
       " 4       Orbit Distance:       227,943,824 km (1.38 AU)\n",
       " 5         Orbit Period:           687 days (1.9 years)\n",
       " 6  Surface Temperature:                   -87 to -5 °C\n",
       " 7         First Record:              2nd millennium BC\n",
       " 8          Recorded By:           Egyptian astronomers,\n",
       " [{'title': 'Cerberus Hemisphere Enhanced',\n",
       "   'img_url': 'https://astropedia.astrogeology.usgs.gov/download/Mars/Viking/cerberus_enhanced.tif/full.jpg'},\n",
       "  {'title': 'Schiaparelli Hemisphere Enhanced',\n",
       "   'img_url': 'https://astropedia.astrogeology.usgs.gov/download/Mars/Viking/schiaparelli_enhanced.tif/full.jpg'},\n",
       "  {'title': 'Syrtis Major Hemisphere Enhanced',\n",
       "   'img_url': 'https://astropedia.astrogeology.usgs.gov/download/Mars/Viking/syrtis_major_enhanced.tif/full.jpg'},\n",
       "  {'title': 'Valles Marineris Hemisphere Enhanced',\n",
       "   'img_url': 'https://astropedia.astrogeology.usgs.gov/download/Mars/Viking/valles_marineris_enhanced.tif/full.jpg'}]]"
      ]
     },
     "execution_count": 78,
     "metadata": {},
     "output_type": "execute_result"
    }
   ],
   "source": [
    "#all mars data\n",
    "all_mars_data = [news_title, news_p, featured_image_url, mars_weather, mars_data_table, hemis_image_urls_dict]\n",
    "all_mars_data"
   ]
  },
  {
   "cell_type": "code",
   "execution_count": null,
   "metadata": {},
   "outputs": [],
   "source": []
  }
 ],
 "metadata": {
  "kernelspec": {
   "display_name": "Python 3",
   "language": "python",
   "name": "python3"
  },
  "language_info": {
   "codemirror_mode": {
    "name": "ipython",
    "version": 3
   },
   "file_extension": ".py",
   "mimetype": "text/x-python",
   "name": "python",
   "nbconvert_exporter": "python",
   "pygments_lexer": "ipython3",
   "version": "3.7.6"
  }
 },
 "nbformat": 4,
 "nbformat_minor": 4
}
